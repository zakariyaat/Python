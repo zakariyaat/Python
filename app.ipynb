{
 "cells": [
  {
   "cell_type": "code",
   "execution_count": 1,
   "id": "b481ae60",
   "metadata": {},
   "outputs": [
    {
     "name": "stdout",
     "output_type": "stream",
     "text": [
      "Zakariya Ahmed.\n"
     ]
    }
   ],
   "source": [
    "print(\"Zakariya Ahmed.\")"
   ]
  },
  {
   "cell_type": "code",
   "execution_count": 2,
   "id": "07176f61",
   "metadata": {},
   "outputs": [
    {
     "name": "stdout",
     "output_type": "stream",
     "text": [
      "Hi \n",
      "This is Tamim.\n"
     ]
    }
   ],
   "source": [
    "print(\"Hi \\nThis is Tamim.\")"
   ]
  },
  {
   "cell_type": "code",
   "execution_count": 3,
   "id": "3e4b05b4",
   "metadata": {},
   "outputs": [
    {
     "name": "stdout",
     "output_type": "stream",
     "text": [
      "**********\n"
     ]
    }
   ],
   "source": [
    "print('*' * 10)"
   ]
  },
  {
   "cell_type": "code",
   "execution_count": 4,
   "id": "d37b56e2",
   "metadata": {},
   "outputs": [
    {
     "name": "stdout",
     "output_type": "stream",
     "text": [
      "4.9\n",
      "ABCD  $25 4.9\n"
     ]
    }
   ],
   "source": [
    "price = 25\n",
    "rating = 4.9\n",
    "name = 'ABCD'\n",
    "is_published = True\n",
    "print(rating)\n",
    "print(f\"{name}  ${price} {rating}\")"
   ]
  },
  {
   "cell_type": "code",
   "execution_count": 5,
   "id": "df43805b",
   "metadata": {},
   "outputs": [
    {
     "name": "stdout",
     "output_type": "stream",
     "text": [
      "7.5\n"
     ]
    }
   ],
   "source": [
    "m = 2.5\n",
    "j = 5\n",
    "print(m+j)"
   ]
  },
  {
   "cell_type": "code",
   "execution_count": 6,
   "id": "5de02987",
   "metadata": {},
   "outputs": [
    {
     "name": "stdout",
     "output_type": "stream",
     "text": [
      "John Smith 20 new\n"
     ]
    }
   ],
   "source": [
    "full_name = 'John Smith'\n",
    "age = 20\n",
    "status = 'new'\n",
    "is_new = True\n",
    "print(full_name, age, status)"
   ]
  },
  {
   "cell_type": "code",
   "execution_count": 7,
   "id": "a795a015",
   "metadata": {},
   "outputs": [
    {
     "name": "stdout",
     "output_type": "stream",
     "text": [
      "What is your name?Ahmed\n",
      "What is your favourite colour?Black\n",
      "Hi Ahmed\n",
      "Ahmed likes Black\n"
     ]
    }
   ],
   "source": [
    "name = input('What is your name?')\n",
    "colour = input('What is your favourite colour?')\n",
    "print('Hi ' + name)\n",
    "print(name + ' likes ' + colour)"
   ]
  },
  {
   "cell_type": "code",
   "execution_count": 8,
   "id": "cae5047d",
   "metadata": {},
   "outputs": [
    {
     "name": "stdout",
     "output_type": "stream",
     "text": [
      "Enter your name: Tamim\n",
      "Enter your age: 23\n",
      "Hello Tamim! you are 23\n"
     ]
    }
   ],
   "source": [
    "name = input(\"Enter your name: \")\n",
    "age = input(\"Enter your age: \")\n",
    "print(\"Hello \" + name + \"! you are \" + age)"
   ]
  },
  {
   "cell_type": "code",
   "execution_count": 14,
   "id": "4d053bfb",
   "metadata": {},
   "outputs": [
    {
     "name": "stdout",
     "output_type": "stream",
     "text": [
      "\n",
      "Hi Tamim,\n",
      "\n",
      "Here is our first email to you.\n",
      "\n",
      "Thank you,\n",
      "The support team\n",
      "\n"
     ]
    }
   ],
   "source": [
    "mail = '''\n",
    "Hi Tamim,\n",
    "\n",
    "Here is our first email to you.\n",
    "\n",
    "Thank you,\n",
    "The support team\n",
    "'''         # Triple quotes for multiline string input\n",
    "print(mail)"
   ]
  },
  {
   "cell_type": "code",
   "execution_count": 10,
   "id": "3e023415",
   "metadata": {},
   "outputs": [
    {
     "name": "stdout",
     "output_type": "stream",
     "text": [
      "This is Zakariya Ahmed Tamim .\n",
      "Zakariya Ahmed Tamim\n"
     ]
    }
   ],
   "source": [
    "first_name = 'Zakariya'\n",
    "middel_name = 'Ahmed'\n",
    "last_name = 'Tamim'\n",
    "print(\"This is\", first_name, middel_name, last_name, \".\")\n",
    "print(first_name, \"Ahmed\", last_name)"
   ]
  },
  {
   "cell_type": "code",
   "execution_count": 11,
   "id": "53a4ca3c",
   "metadata": {},
   "outputs": [
    {
     "name": "stdout",
     "output_type": "stream",
     "text": [
      "Birth year: 2002\n",
      "<class 'int'>\n",
      "<class 'str'>\n",
      "22\n"
     ]
    }
   ],
   "source": [
    "birth_year = input('Birth year: ')\n",
    "age = 2024 - int(birth_year)\n",
    "print(type(age))\n",
    "print(type(birth_year))\n",
    "print(age)"
   ]
  },
  {
   "cell_type": "code",
   "execution_count": 12,
   "id": "391e2a94",
   "metadata": {},
   "outputs": [
    {
     "name": "stdout",
     "output_type": "stream",
     "text": [
      "Weight (lbs): 170\n",
      "77.095 kilograms\n",
      "77.095 kilograms\n"
     ]
    }
   ],
   "source": [
    "weight_lbs = input('Weight (lbs): ')\n",
    "weight_kg = .4535 * int(weight_lbs)\n",
    "print(str(weight_kg) + ' kilograms')\n",
    "print(f\"{weight_kg} kilograms\")"
   ]
  },
  {
   "cell_type": "code",
   "execution_count": 13,
   "id": "07571bc5",
   "metadata": {},
   "outputs": [
    {
     "name": "stdout",
     "output_type": "stream",
     "text": [
      "Python's for beginners Python course for \"Beginners\"\n"
     ]
    }
   ],
   "source": [
    "courses = \"Python's for beginners.\"\n",
    "course = 'Python course for \"Beginners\"'\n",
    "print(courses, course)"
   ]
  },
  {
   "cell_type": "markdown",
   "id": "49598b00",
   "metadata": {},
   "source": [
    "## STRINGS"
   ]
  },
  {
   "cell_type": "code",
   "execution_count": 17,
   "id": "f3633f03",
   "metadata": {},
   "outputs": [
    {
     "name": "stdout",
     "output_type": "stream",
     "text": [
      "P\n",
      "ytho\n",
      "n\n",
      "Python\n",
      " for Beginners\n",
      "Python for Beginners\n",
      "ython for Beginner\n"
     ]
    }
   ],
   "source": [
    "course = 'Python for Beginners'\n",
    "print(course[0])\n",
    "print(course[1:5])\n",
    "print(course[-4])\n",
    "print(course[:6])\n",
    "print(course[6:])\n",
    "print(course[:])\n",
    "print(course[1:-1])"
   ]
  },
  {
   "cell_type": "code",
   "execution_count": 18,
   "id": "45c248b0",
   "metadata": {},
   "outputs": [
    {
     "name": "stdout",
     "output_type": "stream",
     "text": [
      "I'm a programmer\n",
      "Hi!\n",
      "This is Tamim.\n",
      "\n"
     ]
    }
   ],
   "source": [
    "#freeCodeCamp.org (Intermediate Python Programming Course)\n",
    "#Strings: ordered, immutable, text representarion\n",
    "my_string = \"I'm a programmer\"   # my_string = 'I\\'m a programmer'\n",
    "print(my_string)\n",
    "multiLineString = \"\"\"Hi!\n",
    "This is Tamim.\n",
    "\"\"\"\n",
    "print(multiLineString)"
   ]
  },
  {
   "cell_type": "code",
   "execution_count": 19,
   "id": "0f05fd87",
   "metadata": {},
   "outputs": [
    {
     "name": "stdout",
     "output_type": "stream",
     "text": [
      "HloWrd\n",
      "dlroW olleH\n"
     ]
    }
   ],
   "source": [
    "s = \"Hello World\"\n",
    "s1 = s[::2]\n",
    "print(s1)\n",
    "s2 = s[::-1]\n",
    "print(s2)"
   ]
  },
  {
   "cell_type": "code",
   "execution_count": 20,
   "id": "cea961e7",
   "metadata": {},
   "outputs": [
    {
     "name": "stdout",
     "output_type": "stream",
     "text": [
      "     Hello\n",
      "Hello\n",
      "Hello Tom!\n"
     ]
    }
   ],
   "source": [
    "s = \"     Hello\"\n",
    "print(s)\n",
    "gretting = s.strip()\n",
    "print(gretting)\n",
    "name = \"Tom\"\n",
    "sentence = gretting + \" \" + name + \"!\"\n",
    "print(sentence)"
   ]
  },
  {
   "cell_type": "code",
   "execution_count": 21,
   "id": "910ace47",
   "metadata": {},
   "outputs": [
    {
     "name": "stdout",
     "output_type": "stream",
     "text": [
      "H\n",
      "e\n",
      "l\n",
      "l\n",
      "o\n",
      "Yes\n"
     ]
    }
   ],
   "source": [
    "for x in gretting:\n",
    "    print(x)\n",
    "if 'ello' in gretting:\n",
    "    print('Yes')\n",
    "else:\n",
    "    print('No')"
   ]
  },
  {
   "cell_type": "code",
   "execution_count": 22,
   "id": "2aebe60c",
   "metadata": {},
   "outputs": [
    {
     "name": "stdout",
     "output_type": "stream",
     "text": [
      "HELLO TOM!\n",
      "hello tom!\n",
      "True\n",
      "False\n",
      "4\n",
      "1\n",
      "-1\n",
      "2\n",
      "0\n",
      "Hello World!\n"
     ]
    }
   ],
   "source": [
    "print(sentence.upper())\n",
    "print(sentence.lower())\n",
    "print(sentence.startswith('Hello'))\n",
    "print(sentence.endswith('World'))\n",
    "print(sentence.find('o'))\n",
    "print(sentence.find('ello'))\n",
    "print(sentence.find('p'))\n",
    "print(sentence.count('o'))\n",
    "print(sentence.count('p'))\n",
    "print(sentence.replace('Tom', 'World'))"
   ]
  },
  {
   "cell_type": "code",
   "execution_count": 23,
   "id": "81b11bd9",
   "metadata": {},
   "outputs": [
    {
     "name": "stdout",
     "output_type": "stream",
     "text": [
      "['How', 'are', 'you', 'doing', '?']\n",
      "['How', 'are', 'you', 'doing']\n",
      "How are you doing ?\n",
      "How are you doing ?\n",
      "How,are,you,doing\n"
     ]
    }
   ],
   "source": [
    "string = 'How are you doing ?'\n",
    "list = string.split()\n",
    "print(list)\n",
    "s = 'How,are,you,doing'\n",
    "l =s.split(\",\")\n",
    "print(l)\n",
    "new_string = ''.join(string)\n",
    "print(new_string)\n",
    "new_list = ' '.join(list)\n",
    "print(new_list)\n",
    "n_s = ''.join(s)\n",
    "print(n_s)"
   ]
  },
  {
   "cell_type": "code",
   "execution_count": 24,
   "id": "98e680c1",
   "metadata": {},
   "outputs": [
    {
     "name": "stdout",
     "output_type": "stream",
     "text": [
      "['a', 'a', 'a', 'a', 'a', 'a']\n",
      "aaaaaa\n"
     ]
    }
   ],
   "source": [
    "my_list = ['a']*6\n",
    "print(my_list)\n",
    "my_string = ''.join(my_list)\n",
    "print(my_string)"
   ]
  },
  {
   "cell_type": "code",
   "execution_count": 25,
   "id": "dfb64749",
   "metadata": {},
   "outputs": [
    {
     "name": "stdout",
     "output_type": "stream",
     "text": [
      "44.62126160000025\n",
      "0.018971200000123645\n"
     ]
    }
   ],
   "source": [
    "from timeit import default_timer as timer\n",
    "my_list = ['a'] *1000000\n",
    "#bad\n",
    "start = timer()\n",
    "my_string = ''\n",
    "for i in my_list:\n",
    "    my_string += i\n",
    "stop = timer()\n",
    "print(stop - start)\n",
    "#good\n",
    "start = timer()\n",
    "my_string = ''.join(my_list)\n",
    "stop = timer()\n",
    "print(stop - start)"
   ]
  },
  {
   "cell_type": "code",
   "execution_count": 26,
   "id": "06d815c2",
   "metadata": {},
   "outputs": [
    {
     "name": "stdout",
     "output_type": "stream",
     "text": [
      "the variable is Tom\n",
      "the variable is 5\n",
      "the variable is 3.14\n",
      "the variable is 3.14 and 5.62\n",
      "the variable is 3.14159 and 14.05\n"
     ]
    }
   ],
   "source": [
    "# %, .foma(), f-Strings  # %s for integer, %d for integer,%f for floting point\n",
    "var = \"Tom\"\n",
    "x = 5\n",
    "pi =3.14159\n",
    "my_string = \"the variable is %s\" %var \n",
    "print(my_string)\n",
    "my_integer = \"the variable is %d\" %x\n",
    "print(my_integer)\n",
    "my_fp = \"the variable is %.2f\" %pi  #my_fp = \"the variable is {}\".format(pi)\n",
    "print(my_fp)\n",
    "w = 5.62\n",
    "my_fp_nums = \"the variable is {:.2f} and {}\".format(pi,w)\n",
    "print(my_fp_nums)\n",
    "my_fp_numbs = f\"the variable is {pi} and {w*2.5}\"\n",
    "print(my_fp_numbs)"
   ]
  },
  {
   "cell_type": "markdown",
   "id": "dda30369",
   "metadata": {},
   "source": [
    "## FORMATTED STRINGS"
   ]
  },
  {
   "cell_type": "code",
   "execution_count": 27,
   "id": "e0de62a4",
   "metadata": {},
   "outputs": [
    {
     "name": "stdout",
     "output_type": "stream",
     "text": [
      "John [ Smith ] is a coder\n",
      "John [Smith] is a coder\n",
      "John [Smith] is a coder\n"
     ]
    }
   ],
   "source": [
    "first = 'John'\n",
    "last = 'Smith'\n",
    "message = first + ' [' + last + '] is a coder'\n",
    "msg = f'{first} [{last}] is a coder'\n",
    "print(first, '[', last, '] is a coder')\n",
    "print(message)\n",
    "print(msg)"
   ]
  },
  {
   "cell_type": "markdown",
   "id": "419de98e",
   "metadata": {},
   "source": [
    "### STRING METHODS"
   ]
  },
  {
   "cell_type": "code",
   "execution_count": 29,
   "id": "3ed9aa00",
   "metadata": {},
   "outputs": [
    {
     "name": "stdout",
     "output_type": "stream",
     "text": [
      "21\n",
      "PYTHON FOR BEGINNERS.\n",
      "Python for Beginners.\n",
      "python for beginners.\n",
      "7\n",
      "19\n",
      "-1\n",
      "-1\n",
      "Python for Absolute Beginners.\n",
      "Jython for Beginners.\n",
      "True\n",
      "False\n",
      "False\n",
      "True\n"
     ]
    }
   ],
   "source": [
    "course = 'Python for Beginners.'\n",
    "print(len(course))\n",
    "print(course.upper())\n",
    "print(course)\n",
    "print(course.lower())\n",
    "print(course.find('f'))\n",
    "print(course.find('s'))\n",
    "print(course.find('w'))\n",
    "print(course.find('x'))\n",
    "print(course.replace('Beginners', 'Absolute Beginners'))\n",
    "print(course.replace('P', 'J'))\n",
    "print('Python' in course)\n",
    "print('python' in course)\n",
    "print('For' in course)\n",
    "print('for' in course)"
   ]
  },
  {
   "cell_type": "markdown",
   "id": "6da25065",
   "metadata": {},
   "source": [
    "### ARITHMERIC OPERATION"
   ]
  },
  {
   "cell_type": "code",
   "execution_count": 30,
   "id": "dbb57a5b",
   "metadata": {},
   "outputs": [
    {
     "name": "stdout",
     "output_type": "stream",
     "text": [
      "13\n",
      "7\n",
      "30\n",
      "3.3333333333333335\n",
      "3\n",
      "1\n",
      "1000\n",
      "32\n"
     ]
    }
   ],
   "source": [
    "print(10 + 3)\n",
    "print(10 - 3)\n",
    "print(10 * 3)\n",
    "print(10 / 3)\n",
    "print(10 // 3)\n",
    "print(10 % 3)\n",
    "print(10 ** 3)\n",
    "print(2 ** 5)"
   ]
  },
  {
   "cell_type": "code",
   "execution_count": 31,
   "id": "5cd6147d",
   "metadata": {},
   "outputs": [
    {
     "name": "stdout",
     "output_type": "stream",
     "text": [
      "13\n",
      "15\n",
      "7\n"
     ]
    }
   ],
   "source": [
    "x = 10\n",
    "x = x + 3\n",
    "print(x)\n",
    "x += 2\n",
    "print(x)\n",
    "y = 10\n",
    "y -= 3\n",
    "print(y)"
   ]
  },
  {
   "cell_type": "code",
   "execution_count": null,
   "id": "d921aa25",
   "metadata": {},
   "outputs": [],
   "source": [
    "num1 = input(\"Enter a number: \")\n",
    "num2 = input(\"Enter another number: \")\n",
    "summ = num1 + num2\n",
    "print(summ)\n",
    "result = float(num1) + float(num2)\n",
    "print(result)"
   ]
  },
  {
   "cell_type": "markdown",
   "id": "7700ee68",
   "metadata": {},
   "source": [
    "### OPERATION PRECEDENCE"
   ]
  },
  {
   "cell_type": "code",
   "execution_count": 33,
   "id": "a75ee479",
   "metadata": {},
   "outputs": [
    {
     "name": "stdout",
     "output_type": "stream",
     "text": [
      "16\n",
      "34\n",
      "104\n"
     ]
    }
   ],
   "source": [
    "x = 10 + 3 * 2\n",
    "print(x)  #Operation Order 0.Bracket 1.exponentiation(**) 2.multiplication/division 3.addition/subtraction\n",
    "y = 10 + 3 * 2 ** 3\n",
    "print(y)\n",
    "y = (10 + 3) * 2 ** 3\n",
    "print(y)"
   ]
  },
  {
   "cell_type": "code",
   "execution_count": 37,
   "id": "81de5759",
   "metadata": {},
   "outputs": [
    {
     "name": "stdout",
     "output_type": "stream",
     "text": [
      "3\n",
      "2.9\n"
     ]
    }
   ],
   "source": [
    "x = 2.9\n",
    "print(round(x))\n",
    "print(abs(-x))"
   ]
  },
  {
   "cell_type": "markdown",
   "id": "686a490c",
   "metadata": {},
   "source": [
    "### MATH FUNCTION"
   ]
  },
  {
   "cell_type": "code",
   "execution_count": 34,
   "id": "31af224d",
   "metadata": {},
   "outputs": [
    {
     "name": "stdout",
     "output_type": "stream",
     "text": [
      "3\n",
      "2\n"
     ]
    }
   ],
   "source": [
    "import math\n",
    "print(math.ceil(2.9))\n",
    "print(math.floor(2.9))"
   ]
  },
  {
   "cell_type": "code",
   "execution_count": 36,
   "id": "2bfe31f4",
   "metadata": {},
   "outputs": [
    {
     "name": "stdout",
     "output_type": "stream",
     "text": [
      "10\n",
      "720\n",
      "True\n",
      "False\n",
      "False\n"
     ]
    }
   ],
   "source": [
    "import math\n",
    "x = 5\n",
    "y = 2\n",
    "z = 6\n",
    "i = 'j'\n",
    "print(math.comb(x, y))    #comb( n, k)= n! /(k! * (n-k)!) \n",
    "                          #  {Return the number of ways to choose k items from n items without repetition and without order.}\n",
    "print(math.factorial(z))\n",
    "print(math.isfinite(x))\n",
    "print(math.isinf(y))    #Return True if x is a positive or negative infinity, and False otherwise.\n",
    "print(math.isnan(z))    #Return True if x is a NaN (not a number), and False otherwise."
   ]
  },
  {
   "cell_type": "code",
   "execution_count": 35,
   "id": "282a3668",
   "metadata": {},
   "outputs": [
    {
     "name": "stdout",
     "output_type": "stream",
     "text": [
      "7\n",
      "48\n",
      "(0.5, 9.0)\n"
     ]
    }
   ],
   "source": [
    "import math\n",
    "print(math.isqrt(49))\n",
    "print(math.lcm(8, 12, 16))\n",
    "print(math.modf(9.5))"
   ]
  },
  {
   "cell_type": "markdown",
   "id": "f7dfa98f",
   "metadata": {},
   "source": [
    "### Constants"
   ]
  },
  {
   "cell_type": "code",
   "execution_count": 38,
   "id": "fc962933",
   "metadata": {},
   "outputs": [
    {
     "name": "stdout",
     "output_type": "stream",
     "text": [
      "3.141592653589793\n",
      "2.718281828459045\n",
      "6.283185307179586\n",
      "-inf\n"
     ]
    }
   ],
   "source": [
    "import math\n",
    "print(math.pi)\n",
    "print(math.e)\n",
    "print(math.tau)\n",
    "print(-math.inf)"
   ]
  },
  {
   "cell_type": "code",
   "execution_count": 1,
   "id": "3f4597dc",
   "metadata": {},
   "outputs": [
    {
     "name": "stdout",
     "output_type": "stream",
     "text": [
      "math.sin(30) = 0.5000001943375613\n",
      "math.sin(60) = 0.8660266281835431\n",
      "math.tan(45) = 1.0000010732056792\n",
      "math.cos(90) = -3.673205103346574e-06\n",
      "math.sin(90) = 0.9999999999932537\n"
     ]
    }
   ],
   "source": [
    "#Trigonometric functions\n",
    "import math\n",
    "print(\"math.sin(30) =\", math.sin(.523599))    #python takes input as radian & gives output as radian ****\n",
    "print(\"math.sin(60) =\", math.sin(1.0472))\n",
    "print(\"math.tan(45) =\", math.tan(.7853987))\n",
    "print(\"math.cos(90) =\", math.cos(1.5708))\n",
    "print(\"math.sin(90) =\", math.sin(1.5708))"
   ]
  },
  {
   "cell_type": "code",
   "execution_count": 2,
   "id": "15722624",
   "metadata": {},
   "outputs": [
    {
     "name": "stdout",
     "output_type": "stream",
     "text": [
      "math.cos(x) = 0.5000000000000001\n",
      "math.sin(x) = 0.8660254037844386\n",
      "math.tan(x) =  1.7320508075688767\n",
      "math.cos(y) = -0.9523702042513652\n",
      "math.cos(60) = -0.9524129804151563\n",
      "math.acos(.5) = 1.0471975511965979\n"
     ]
    }
   ],
   "source": [
    "x = math.radians(60)                     #math.radians(x) Convert angle x from degrees to radians\n",
    "y = math.degrees(1.0472)                 #Convert angle x from radians to degrees\n",
    "print(\"math.cos(x) =\", math.cos(x))     #python takes input as radian ****\n",
    "print(\"math.sin(x) =\", math.sin(x))\n",
    "print(\"math.tan(x) = \", math.tan(x))\n",
    "print(\"math.cos(y) =\", math.cos(y))      #python takes input as radian & gives output as radian ****\n",
    "print(\"math.cos(60) =\", math.cos(60))    #python takes input & output as radian ****\n",
    "print(\"math.acos(.5) =\", math.acos(.5))    #acos = Arc Cos/ Inverse cos"
   ]
  },
  {
   "cell_type": "code",
   "execution_count": null,
   "id": "ef91b015",
   "metadata": {},
   "outputs": [],
   "source": [
    "#CONDITIONS\n",
    "is_hot = False\n",
    "is_cold = False\n",
    "if is_hot:\n",
    "    print(\"It is a hot day!!\")\n",
    "    print(\"Drink plenty water.\")\n",
    "elif is_cold:\n",
    "    print(\"It's a cold day.\")\n",
    "    print(\"Wear warm clothes.\")\n",
    "else:\n",
    "    print(\"It's a lovely day.\")\n",
    "print(\"Enjoy your day.\")"
   ]
  },
  {
   "cell_type": "code",
   "execution_count": 3,
   "id": "be721523",
   "metadata": {},
   "outputs": [
    {
     "name": "stdout",
     "output_type": "stream",
     "text": [
      "Need to put down: $200000.0 \n"
     ]
    }
   ],
   "source": [
    "price = 1000000\n",
    "has_good_credit = False\n",
    "if has_good_credit:\n",
    "    down_payment = 0.1 * price\n",
    "else:\n",
    "    down_payment = 0.2 * price\n",
    "print(f\"Need to put down: ${down_payment} \")"
   ]
  },
  {
   "cell_type": "code",
   "execution_count": 4,
   "id": "8b2f9082",
   "metadata": {},
   "outputs": [
    {
     "name": "stdout",
     "output_type": "stream",
     "text": [
      "Eligible for loan.\n"
     ]
    }
   ],
   "source": [
    "has_high_income = True\n",
    "has_good_credit = True\n",
    "if has_high_income and has_good_credit:\n",
    "    print(\"Eligible for loan.\")\n",
    "else:\n",
    "    print(\"Not eligible for loan.\")"
   ]
  },
  {
   "cell_type": "code",
   "execution_count": 5,
   "id": "dcd7ac9a",
   "metadata": {},
   "outputs": [
    {
     "name": "stdout",
     "output_type": "stream",
     "text": [
      "Eligible for loan.\n"
     ]
    }
   ],
   "source": [
    "has_high_income = True\n",
    "has_good_credit = False\n",
    "if has_high_income or has_good_credit:\n",
    "    print(\"Eligible for loan.\")\n",
    "else:\n",
    "    print(\"Not eligible for loan.\")"
   ]
  },
  {
   "cell_type": "code",
   "execution_count": 6,
   "id": "6b940260",
   "metadata": {},
   "outputs": [
    {
     "name": "stdout",
     "output_type": "stream",
     "text": [
      "Not eligible for loan.\n"
     ]
    }
   ],
   "source": [
    "has_good_credit = True\n",
    "has_criminal_record = True\n",
    "if has_good_credit and not has_criminal_record:\n",
    "    print(\"Eligible for loan.\")\n",
    "else:\n",
    "    print(\"Not eligible for loan.\")"
   ]
  },
  {
   "cell_type": "code",
   "execution_count": 7,
   "id": "190b5ee4",
   "metadata": {},
   "outputs": [
    {
     "name": "stdout",
     "output_type": "stream",
     "text": [
      "temperature: 32\n",
      "It's a hot day.\n",
      "Have a good day.Enjoy your day.\n"
     ]
    }
   ],
   "source": [
    "temperature = int(input(\"temperature: \"))\n",
    "if temperature >= 30:\n",
    "    print(\"It's a hot day.\")\n",
    "elif temperature <= 15:\n",
    "    print(\"It's a cold day.\")\n",
    "else:\n",
    "    print(\"It's neither hot nor cold.\")\n",
    "print(\"Have a good day.Enjoy your day.\")"
   ]
  },
  {
   "cell_type": "code",
   "execution_count": 8,
   "id": "325c4d39",
   "metadata": {},
   "outputs": [
    {
     "name": "stdout",
     "output_type": "stream",
     "text": [
      "Name looks good.\n"
     ]
    }
   ],
   "source": [
    "name = \"Zakariya Ahmed\"\n",
    "size = len(name)\n",
    "if size < 4:\n",
    "    print(\"Name must be at least 4 characters.\")\n",
    "elif size > 20:\n",
    "    print(\"Name must be a maximum of 20 characters.\")\n",
    "else:\n",
    "    print(\"Name looks good.\")"
   ]
  },
  {
   "cell_type": "code",
   "execution_count": 9,
   "id": "60acd963",
   "metadata": {},
   "outputs": [
    {
     "name": "stdout",
     "output_type": "stream",
     "text": [
      "Weight: 65\n",
      "(L)bs or (K)g: k\n",
      "You are 143.0 pounds.\n"
     ]
    }
   ],
   "source": [
    "weight = int(input(\"Weight: \"))\n",
    "unit = input(\"(L)bs or (K)g: \")\n",
    "if unit.upper() == \"K\":\n",
    "    converted = 2.2 * weight\n",
    "    print(f\"You are {converted} pounds.\")\n",
    "else:\n",
    "    converted = .45 * weight\n",
    "    print(f\"You are {converted} kilos.\")"
   ]
  },
  {
   "cell_type": "code",
   "execution_count": 11,
   "id": "92af7096",
   "metadata": {},
   "outputs": [
    {
     "name": "stdout",
     "output_type": "stream",
     "text": [
      "Enter first number: 45\n",
      "Enter operator: /\n",
      "Enter second number: 9\n",
      "5.0\n"
     ]
    }
   ],
   "source": [
    "num1 = float(input(\"Enter first number: \"))\n",
    "op = input(\"Enter operator: \")\n",
    "num2 = float(input(\"Enter second number: \"))\n",
    "\n",
    "if op == \"+\":\n",
    "    print(num1 + num2)\n",
    "elif op == \"-\":\n",
    "    print(num1 - num2)\n",
    "elif op == \"/\":\n",
    "    print(num1 / num2)\n",
    "elif op == \"*\":\n",
    "    print(num1 * num2)\n",
    "else:\n",
    "    print(\"Invalid operator!!\")"
   ]
  },
  {
   "cell_type": "code",
   "execution_count": null,
   "id": "9083f806",
   "metadata": {},
   "outputs": [],
   "source": []
  },
  {
   "cell_type": "code",
   "execution_count": null,
   "id": "e093f341",
   "metadata": {},
   "outputs": [],
   "source": []
  },
  {
   "cell_type": "code",
   "execution_count": null,
   "id": "4f264d1a",
   "metadata": {},
   "outputs": [],
   "source": []
  },
  {
   "cell_type": "code",
   "execution_count": null,
   "id": "64a52af9",
   "metadata": {},
   "outputs": [],
   "source": []
  },
  {
   "cell_type": "code",
   "execution_count": null,
   "id": "719c3f89",
   "metadata": {},
   "outputs": [],
   "source": []
  },
  {
   "cell_type": "code",
   "execution_count": null,
   "id": "19e142c0",
   "metadata": {},
   "outputs": [],
   "source": []
  },
  {
   "cell_type": "code",
   "execution_count": null,
   "id": "8e0de191",
   "metadata": {},
   "outputs": [],
   "source": []
  },
  {
   "cell_type": "code",
   "execution_count": null,
   "id": "3fdb143f",
   "metadata": {},
   "outputs": [],
   "source": []
  },
  {
   "cell_type": "code",
   "execution_count": null,
   "id": "8e870b19",
   "metadata": {},
   "outputs": [],
   "source": []
  },
  {
   "cell_type": "code",
   "execution_count": null,
   "id": "2e700c5f",
   "metadata": {},
   "outputs": [],
   "source": []
  },
  {
   "cell_type": "code",
   "execution_count": null,
   "id": "5700d440",
   "metadata": {},
   "outputs": [],
   "source": []
  },
  {
   "cell_type": "code",
   "execution_count": null,
   "id": "ae620db4",
   "metadata": {},
   "outputs": [],
   "source": []
  },
  {
   "cell_type": "code",
   "execution_count": null,
   "id": "d810b39f",
   "metadata": {},
   "outputs": [],
   "source": []
  },
  {
   "cell_type": "code",
   "execution_count": null,
   "id": "c6482ca5",
   "metadata": {},
   "outputs": [],
   "source": []
  },
  {
   "cell_type": "code",
   "execution_count": null,
   "id": "5a19648d",
   "metadata": {},
   "outputs": [],
   "source": []
  },
  {
   "cell_type": "code",
   "execution_count": null,
   "id": "d889c169",
   "metadata": {},
   "outputs": [],
   "source": []
  },
  {
   "cell_type": "code",
   "execution_count": null,
   "id": "6a302308",
   "metadata": {},
   "outputs": [],
   "source": []
  },
  {
   "cell_type": "code",
   "execution_count": null,
   "id": "18888057",
   "metadata": {},
   "outputs": [],
   "source": []
  },
  {
   "cell_type": "code",
   "execution_count": null,
   "id": "697f6062",
   "metadata": {},
   "outputs": [],
   "source": []
  }
 ],
 "metadata": {
  "kernelspec": {
   "display_name": "Python 3 (ipykernel)",
   "language": "python",
   "name": "python3"
  },
  "language_info": {
   "codemirror_mode": {
    "name": "ipython",
    "version": 3
   },
   "file_extension": ".py",
   "mimetype": "text/x-python",
   "name": "python",
   "nbconvert_exporter": "python",
   "pygments_lexer": "ipython3",
   "version": "3.11.5"
  }
 },
 "nbformat": 4,
 "nbformat_minor": 5
}
