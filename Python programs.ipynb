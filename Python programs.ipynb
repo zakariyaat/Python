{
 "cells": [
  {
   "cell_type": "code",
   "execution_count": 2,
   "id": "eb1a2cfb-bbc0-4cd4-9ee4-3c7967a6eb63",
   "metadata": {},
   "outputs": [
    {
     "name": "stdout",
     "output_type": "stream",
     "text": [
      "Hello Python\n"
     ]
    }
   ],
   "source": [
    "print('Hello Python')"
   ]
  },
  {
   "cell_type": "markdown",
   "id": "7adac57d-9a46-4026-a62f-f08df8337758",
   "metadata": {},
   "source": [
    "**Program 2**"
   ]
  },
  {
   "cell_type": "code",
   "execution_count": 2,
   "id": "21aa8364-938e-4d80-a5e9-a50a85cc2aff",
   "metadata": {},
   "outputs": [
    {
     "name": "stdin",
     "output_type": "stream",
     "text": [
      "Enter the first number for addition:  5\n",
      "Enter the second number for adddition:  6\n"
     ]
    },
    {
     "name": "stdout",
     "output_type": "stream",
     "text": [
      "sum: 5.0 + 6.0 = 11.0\n"
     ]
    }
   ],
   "source": [
    "num1 = float(input('Enter the first number for addition: '))\n",
    "num2 = float(input('Enter the second number for adddition: '))\n",
    "sum_result = num1 + num2\n",
    "print(f'sum: {num1} + {num2} = {sum_result}') "
   ]
  },
  {
   "cell_type": "code",
   "execution_count": 4,
   "id": "2c6779a6-8c63-4d53-ba5b-ececd7741baf",
   "metadata": {},
   "outputs": [
    {
     "name": "stdin",
     "output_type": "stream",
     "text": [
      "Enter the divident for division:  45\n",
      "Enter the divisor for division:  9\n"
     ]
    },
    {
     "name": "stdout",
     "output_type": "stream",
     "text": [
      "Division: 45.0 / 9.0 = 5.0\n"
     ]
    }
   ],
   "source": [
    "num3 = float(input('Enter the divident for division: '))\n",
    "num4 = float(input('Enter the divisor for division: '))\n",
    "if num4 == 0:\n",
    "    print('Error: Division by zero is not allowed!')\n",
    "else:\n",
    "    div_result = num3/num4\n",
    "    print(f'Division: {num3} / {num4} = {div_result}')"
   ]
  },
  {
   "cell_type": "markdown",
   "id": "937e01cd-3697-4c48-9958-1f5695e6fae1",
   "metadata": {},
   "source": [
    "**03. Find the area of a triangle.**"
   ]
  },
  {
   "cell_type": "code",
   "execution_count": 6,
   "id": "e6e15a61-2cf0-4853-85f3-98f840d12faa",
   "metadata": {},
   "outputs": [
    {
     "name": "stdin",
     "output_type": "stream",
     "text": [
      "Enter the lingth of the base of the triangle:  10\n",
      "Enter the height of the triangle:  15\n"
     ]
    },
    {
     "name": "stdout",
     "output_type": "stream",
     "text": [
      "he area of the triangle is: 75.0\n"
     ]
    }
   ],
   "source": [
    "base = float(input(\"Enter the lingth of the base of the triangle: \"))\n",
    "height = float(input(\"Enter the height of the triangle: \"))\n",
    "area = 0.5*base*height\n",
    "print(f\"he area of the triangle is: {area}\")"
   ]
  },
  {
   "cell_type": "markdown",
   "id": "1ede4fe8-940a-4bb7-accc-38cebf3394f8",
   "metadata": {},
   "source": [
    "**04. Swap two variables.**"
   ]
  },
  {
   "cell_type": "code",
   "execution_count": 23,
   "id": "88f29f47-d79e-4d12-b1d5-126d669168c9",
   "metadata": {},
   "outputs": [
    {
     "name": "stdin",
     "output_type": "stream",
     "text": [
      "Enter the value of the first variable (a):  7\n",
      "Enter teh value of the second variable (b):  3\n"
     ]
    },
    {
     "name": "stdout",
     "output_type": "stream",
     "text": [
      "Original values: a = 7, b = 3\n",
      "Swapped values: a =3, b = 7\n"
     ]
    }
   ],
   "source": [
    "a = input(\"Enter the value of the first variable (a): \")\n",
    "b = input(\"Enter teh value of the second variable (b): \")\n",
    "print(f\"Original values: a = {a}, b = {b}\")\n",
    "temp = a\n",
    "a = b\n",
    "b = temp\n",
    "print(f\"Swapped values: a ={a}, b = {b}\")"
   ]
  },
  {
   "cell_type": "markdown",
   "id": "37f7b6eb-5abb-4290-9686-ff3cfa27564b",
   "metadata": {},
   "source": [
    "**05. Generate a random number.**"
   ]
  },
  {
   "cell_type": "code",
   "execution_count": 26,
   "id": "0bc72f62-ae34-4ac9-87df-9ddb7a22c5ba",
   "metadata": {},
   "outputs": [
    {
     "name": "stdout",
     "output_type": "stream",
     "text": [
      "Random number: 447\n"
     ]
    }
   ],
   "source": [
    "import random \n",
    "r = random.randint(1,1000)\n",
    "print(f\"Random number: {r}\")"
   ]
  },
  {
   "cell_type": "markdown",
   "id": "4f579dbd-c1a4-446a-814c-2f0f711a1192",
   "metadata": {},
   "source": [
    "**06. Convert kilometers to miles.**"
   ]
  },
  {
   "cell_type": "code",
   "execution_count": 35,
   "id": "4516decc-702f-4ffd-b942-331b3846066c",
   "metadata": {},
   "outputs": [
    {
     "name": "stdin",
     "output_type": "stream",
     "text": [
      "Enter distance in Km:  5\n"
     ]
    },
    {
     "name": "stdout",
     "output_type": "stream",
     "text": [
      "5.0 Kilometers is equal to 3.106855 miles\n"
     ]
    }
   ],
   "source": [
    "km = float(input(\"Enter distance in Km: \"))\n",
    "conversion_factor = 0.621371\n",
    "miles = km*conversion_factor\n",
    "print(f\"{km} Kilometers is equal to {miles} miles\")"
   ]
  },
  {
   "cell_type": "markdown",
   "id": "9b472764-d1eb-410b-88dd-92e0265f4ff6",
   "metadata": {},
   "source": [
    "**07. Convert Celsius to Fahrenheit.**"
   ]
  },
  {
   "cell_type": "code",
   "execution_count": 45,
   "id": "74135349-e93f-49d4-8c5f-919f7de3cb3c",
   "metadata": {},
   "outputs": [
    {
     "name": "stdin",
     "output_type": "stream",
     "text": [
      "Enter temperature in Celsius:  36.7\n"
     ]
    },
    {
     "name": "stdout",
     "output_type": "stream",
     "text": [
      "36.7 degrees Celsius is equal to 98.06 degrees Fahranheit\n"
     ]
    }
   ],
   "source": [
    "celsius = float(input(\"Enter temperature in Celsius: \"))\n",
    "fahrenheit = (celsius * 9/5) + 32\n",
    "print(f\"{celsius} degrees Celsius is equal to {fahrenheit} degrees Fahranheit\")"
   ]
  },
  {
   "cell_type": "markdown",
   "id": "dd6f4bd2-9b17-4a9f-a17d-2825d2ccfc92",
   "metadata": {},
   "source": [
    "**08. Display calendar.**"
   ]
  },
  {
   "cell_type": "code",
   "execution_count": 53,
   "id": "2eab2a48-ac8b-4115-990d-6373aa6119fe",
   "metadata": {},
   "outputs": [
    {
     "name": "stdin",
     "output_type": "stream",
     "text": [
      "Enter year:  2025\n",
      "Enter monthe:  08\n"
     ]
    },
    {
     "name": "stdout",
     "output_type": "stream",
     "text": [
      "    August 2025\n",
      "Mo Tu We Th Fr Sa Su\n",
      "             1  2  3\n",
      " 4  5  6  7  8  9 10\n",
      "11 12 13 14 15 16 17\n",
      "18 19 20 21 22 23 24\n",
      "25 26 27 28 29 30 31\n",
      "\n"
     ]
    }
   ],
   "source": [
    "import calendar\n",
    "year = int(input(\"Enter year: \"))\n",
    "month = int(input(\"Enter monthe: \"))\n",
    "cal = calendar.month(year, month)\n",
    "print(cal)"
   ]
  },
  {
   "cell_type": "markdown",
   "id": "40b37bc0-9621-4df2-971c-79b5215b26c3",
   "metadata": {},
   "source": [
    "### 09. Solve quadratic equation."
   ]
  },
  {
   "cell_type": "code",
   "execution_count": 3,
   "id": "fffba6bc-2e0c-4b22-aa4a-fd82125cc3ba",
   "metadata": {},
   "outputs": [
    {
     "name": "stdout",
     "output_type": "stream",
     "text": [
      "Enter coefficient a: 5\n",
      "Enter coefficient b: 4\n",
      "Enter coefficient c: 3\n",
      "Root 1: -0.4 + 0.6633249580710799i\n",
      "Root 2: -0.4 - 0.6633249580710799i\n"
     ]
    }
   ],
   "source": [
    "import math\n",
    "a = float(input(\"Enter coefficient a: \"))\n",
    "b = float(input(\"Enter coefficient b: \"))\n",
    "c = float(input(\"Enter coefficient c: \"))\n",
    "\n",
    "discriminant = b**2 - 4*a*c\n",
    "\n",
    "if discriminant > 0:\n",
    "    root1 = (-b + math.sqrt(discriminant)) / (2*a)\n",
    "    root2 = (-b - math.sqrt(discriminant)) / (2*a)\n",
    "    print(f\"Root 1: {root1}\")\n",
    "    print(f\"Root 2: {root2}\")\n",
    "elif discriminant == 0:\n",
    "    root = -b / (2*a)\n",
    "    print(f\"Root: {root}\")\n",
    "else:\n",
    "    real_part = -b / (2*a)\n",
    "    imaginary_part = math.sqrt(abs(discriminant)) / (2*a)\n",
    "    print(f\"Root 1: {real_part} + {imaginary_part}i\")\n",
    "    print(f\"Root 2: {real_part} - {imaginary_part}i\")\n",
    "    \n"
   ]
  },
  {
   "cell_type": "markdown",
   "id": "6ab44bbd",
   "metadata": {},
   "source": [
    "**10. Write a Python program to swap two variables without temp variable.**"
   ]
  },
  {
   "cell_type": "code",
   "execution_count": 4,
   "id": "922a9ead",
   "metadata": {},
   "outputs": [
    {
     "name": "stdout",
     "output_type": "stream",
     "text": [
      "After swapping: \n",
      "a =  10\n",
      "b =  5\n"
     ]
    }
   ],
   "source": [
    "a = 5\n",
    "b = 10\n",
    "a,b = b,a\n",
    "print(\"After swapping: \")\n",
    "print(\"a = \", a)\n",
    "print(\"b = \", b)"
   ]
  },
  {
   "cell_type": "markdown",
   "id": "71b898d6",
   "metadata": {},
   "source": [
    "**11. Write a Python Program to Check if a Number is Positive, Negative or Zero.**"
   ]
  },
  {
   "cell_type": "code",
   "execution_count": 5,
   "id": "f7856313",
   "metadata": {},
   "outputs": [
    {
     "name": "stdout",
     "output_type": "stream",
     "text": [
      "Enter a number: 5\n",
      "Positive number\n"
     ]
    }
   ],
   "source": [
    "num = float(input(\"Enter a number: \"))\n",
    "if num > 0:\n",
    "     print(\"Positive number\")\n",
    "elif num == 0:\n",
    "     print(\"Zero\")\n",
    "else:\n",
    "     print(\"Negative number\")"
   ]
  },
  {
   "cell_type": "markdown",
   "id": "300ccdf0",
   "metadata": {},
   "source": [
    "**12. Write a Python Program to Check if a Number is Odd or Even.**"
   ]
  },
  {
   "cell_type": "code",
   "execution_count": 6,
   "id": "f1a048aa",
   "metadata": {},
   "outputs": [
    {
     "name": "stdout",
     "output_type": "stream",
     "text": [
      "Enter a number: 7\n",
      "This is a odd number\n"
     ]
    }
   ],
   "source": [
    "num = int(input(\"Enter a number: \"))\n",
    "if num%2 == 0:\n",
    "     print(\"This is a even number\")\n",
    "else:\n",
    "     print(\"This is a odd number\")"
   ]
  },
  {
   "cell_type": "markdown",
   "id": "f5fbc00e",
   "metadata": {},
   "source": [
    "### 13. Write a Python Program to Check Leap Year."
   ]
  },
  {
   "cell_type": "code",
   "execution_count": 11,
   "id": "ac41e0ad",
   "metadata": {},
   "outputs": [
    {
     "name": "stdout",
     "output_type": "stream",
     "text": [
      "Enter a year: 2000\n",
      "2000 is a leap year.\n"
     ]
    }
   ],
   "source": [
    "year = int(input(\"Enter a year: \"))\n",
    "\n",
    "if (year % 400 == 0) and (year % 100 == 0):\n",
    "     print(f\"{year} is a leap year.\")\n",
    "elif (year % 4 ==0) and (year % 100 != 0):\n",
    "      print(f\"{year} is a leap year.\")\n",
    "else:\n",
    "      print(f\"{year} is not a leap year.\")"
   ]
  },
  {
   "cell_type": "markdown",
   "id": "3e4fb2a3",
   "metadata": {},
   "source": [
    "### 14. Write a Python Program to Check Prime Number."
   ]
  },
  {
   "cell_type": "code",
   "execution_count": 15,
   "id": "5ec787c8",
   "metadata": {},
   "outputs": [
    {
     "name": "stdout",
     "output_type": "stream",
     "text": [
      "Enter a number: 19\n",
      "19 is a prime number.\n"
     ]
    }
   ],
   "source": [
    "num = int(input(\"Enter a number: \"))\n",
    "count = 0\n",
    "if num == 1:\n",
    "    print(f\"{num} is not a prime number\")\n",
    "elif num > 1:\n",
    "    for i in range(2,num):\n",
    "        if (num % i) == 0:\n",
    "            count += 1\n",
    "            \n",
    "if count>=1:\n",
    "    print(f\"{num} is not a prime number.\")\n",
    "else:\n",
    "    print(f\"{num} is a prime number.\")"
   ]
  },
  {
   "cell_type": "markdown",
   "id": "f1181e44",
   "metadata": {},
   "source": [
    "### 15. Write a Python Program to Print all Prime Numbers in an Interval of 1-10"
   ]
  },
  {
   "cell_type": "code",
   "execution_count": 20,
   "id": "9dde6698",
   "metadata": {},
   "outputs": [
    {
     "name": "stdout",
     "output_type": "stream",
     "text": [
      "Prime numbers between 1 and 10 are:\n",
      "2\n",
      "3\n",
      "5\n",
      "7\n"
     ]
    }
   ],
   "source": [
    "lower = 1\n",
    "upper = 10\n",
    "print(\"Prime numbers between\", lower, \"and\", upper, \"are:\")\n",
    "for num in range(lower,upper+1):\n",
    "    if num > 1:\n",
    "        for i in range(2,num):\n",
    "            if (num % i) == 0:\n",
    "                break\n",
    "        else:\n",
    "            print(num)"
   ]
  },
  {
   "cell_type": "markdown",
   "id": "782472d4",
   "metadata": {},
   "source": [
    "### 16. Write a Python Program to Find the Factorial of a Number"
   ]
  },
  {
   "cell_type": "code",
   "execution_count": 3,
   "id": "c897df96",
   "metadata": {},
   "outputs": [
    {
     "name": "stdout",
     "output_type": "stream",
     "text": [
      "Enter a number: 6\n",
      "Factorial of 6 is 720\n"
     ]
    }
   ],
   "source": [
    "num = int(input(\"Enter a number: \"))\n",
    "factorial = 1\n",
    "if num < 0:\n",
    "    print(\"Factorial does not exist for negative numbers\")\n",
    "elif num == 0:\n",
    "    print(\"Factorial of 0 is 1\")\n",
    "else:\n",
    "    for i in range(1,num+1):\n",
    "        factorial = factorial*i\n",
    "    print(f\"Factorial of {num} is {factorial}\")"
   ]
  },
  {
   "cell_type": "markdown",
   "id": "21677218",
   "metadata": {},
   "source": [
    "### 17. Write a Python Program to Display the multiplication Table."
   ]
  },
  {
   "cell_type": "code",
   "execution_count": 4,
   "id": "017706f9",
   "metadata": {},
   "outputs": [
    {
     "name": "stdout",
     "output_type": "stream",
     "text": [
      "Display multiplication table of: 7\n",
      "7 X 1 = 7\n",
      "7 X 2 = 14\n",
      "7 X 3 = 21\n",
      "7 X 4 = 28\n",
      "7 X 5 = 35\n",
      "7 X 6 = 42\n",
      "7 X 7 = 49\n",
      "7 X 8 = 56\n",
      "7 X 9 = 63\n",
      "7 X 10 = 70\n"
     ]
    }
   ],
   "source": [
    "num = int(input(\"Display multiplication table of: \"))\n",
    "for i in range(1, 11):\n",
    "    print(f\"{num} X {i} = {num*i}\")"
   ]
  },
  {
   "cell_type": "markdown",
   "id": "0db58821",
   "metadata": {},
   "source": [
    "### 18. Write a Python Program to Print the Fibonacci sequence."
   ]
  },
  {
   "cell_type": "code",
   "execution_count": 5,
   "id": "39c3db8a",
   "metadata": {},
   "outputs": [
    {
     "name": "stdout",
     "output_type": "stream",
     "text": [
      "How many terms? 10\n",
      "Fibonacci sequence:\n",
      "0\n",
      "1\n",
      "1\n",
      "2\n",
      "3\n",
      "5\n",
      "8\n",
      "13\n",
      "21\n",
      "34\n"
     ]
    }
   ],
   "source": [
    "nterms = int(input(\"How many terms? \"))\n",
    "n1, n2 = 0,1\n",
    "count = 0\n",
    "if nterms <= 0:\n",
    "    print(\"Please enter a positive integer\")\n",
    "elif nterms == 1:\n",
    "    print(\"Fibonacci sequence upto\",nterms,\":\")\n",
    "    print(n1)\n",
    "else:\n",
    "    print(\"Fibonacci sequence:\")\n",
    "    while count < nterms:\n",
    "        print(n1)\n",
    "        nth = n1 + n2\n",
    "        n1 = n2\n",
    "        n2 = nth\n",
    "        count += 1"
   ]
  },
  {
   "cell_type": "markdown",
   "id": "35a65ad2",
   "metadata": {},
   "source": [
    "### 19. Write a Python Program to Check Armstrong Number?"
   ]
  },
  {
   "cell_type": "code",
   "execution_count": 7,
   "id": "9cb25cf5",
   "metadata": {},
   "outputs": [
    {
     "name": "stdout",
     "output_type": "stream",
     "text": [
      "Enter a number: 9474\n",
      "9474 is an Armstrong number.\n"
     ]
    }
   ],
   "source": [
    "# It is a number that is equal to the sum of its own digits, each raised to a power equal to the\n",
    "#number of digits in the number.\n",
    "\n",
    "num = int(input(\"Enter a number: \"))\n",
    "num_str = str(num)\n",
    "num_digits = len(num_str)\n",
    "sum_of_powers = 0\n",
    "temp_num = num\n",
    "\n",
    "while temp_num > 0:\n",
    "    digit = temp_num % 10\n",
    "    sum_of_powers += digit ** num_digits\n",
    "    temp_num //= 10\n",
    "if sum_of_powers == num:\n",
    "    print(f\"{num} is an Armstrong number.\")\n",
    "else:\n",
    "    print(f\"{num} is not an Armstrong number.\")"
   ]
  },
  {
   "cell_type": "markdown",
   "id": "607b8563",
   "metadata": {},
   "source": [
    "### 20. Write a Python Program to Find Armstrong Number in an Interval."
   ]
  },
  {
   "cell_type": "code",
   "execution_count": 9,
   "id": "2da754ed",
   "metadata": {},
   "outputs": [
    {
     "name": "stdout",
     "output_type": "stream",
     "text": [
      "Enter the lower limit of the interval: 100\n",
      "Enter the upper limit of the interval: 1000\n",
      "153\n",
      "370\n",
      "371\n",
      "407\n"
     ]
    }
   ],
   "source": [
    "lower = int(input(\"Enter the lower limit of the interval: \"))\n",
    "upper = int(input(\"Enter the upper limit of the interval: \"))\n",
    "\n",
    "for num in range(lower, upper+1):\n",
    "    order = len(str(num))\n",
    "    temp_num = num\n",
    "    sum = 0\n",
    "    \n",
    "    while temp_num > 0:\n",
    "        digit = temp_num % 10\n",
    "        sum += digit ** order \n",
    "        temp_num //= 10\n",
    "        \n",
    "    if num == sum:\n",
    "        print(num)"
   ]
  },
  {
   "cell_type": "markdown",
   "id": "753a293d",
   "metadata": {},
   "source": [
    "### 21. Write a Python Program to Find the Sum of Natural Numbers."
   ]
  },
  {
   "cell_type": "code",
   "execution_count": 11,
   "id": "021cd93c",
   "metadata": {},
   "outputs": [
    {
     "name": "stdout",
     "output_type": "stream",
     "text": [
      "Enter the limit: 10\n",
      "The sum of natural numbers up to 10 is: 55\n"
     ]
    }
   ],
   "source": [
    "limit = int(input(\"Enter the limit: \"))\n",
    "sum = 0\n",
    "for i in range(1, limit + 1):\n",
    "    sum += i\n",
    "print(\"The sum of natural numbers up to\", limit, \"is:\", sum)"
   ]
  },
  {
   "cell_type": "markdown",
   "id": "e99fe7cc",
   "metadata": {},
   "source": [
    "### 22. Write a Python Program to Find LCM."
   ]
  },
  {
   "cell_type": "code",
   "execution_count": null,
   "id": "e4510830",
   "metadata": {},
   "outputs": [],
   "source": []
  },
  {
   "cell_type": "markdown",
   "id": "4191959a",
   "metadata": {},
   "source": [
    "### 23. Write a Python Program to Find HCF."
   ]
  },
  {
   "cell_type": "code",
   "execution_count": null,
   "id": "1a1c6414",
   "metadata": {},
   "outputs": [],
   "source": []
  },
  {
   "cell_type": "markdown",
   "id": "1f7163ca",
   "metadata": {},
   "source": [
    "### 24. Write a Python Program to Convert Decimal to Binary, Octal and Hexadecimal."
   ]
  },
  {
   "cell_type": "code",
   "execution_count": 12,
   "id": "d7ba3d60",
   "metadata": {},
   "outputs": [
    {
     "name": "stdout",
     "output_type": "stream",
     "text": [
      "Enter a decimal number: 86\n",
      "The decimal value of 86 is:\n",
      "0b1010110 in binary.\n",
      "0o126 in octal.\n",
      "0x56 in hexadecimal.\n"
     ]
    }
   ],
   "source": [
    "dec_num = int(input('Enter a decimal number: '))\n",
    "\n",
    "print(\"The decimal value of\", dec_num, \"is:\")\n",
    "print(bin(dec_num), \"in binary.\")\n",
    "print(oct(dec_num), \"in octal.\")\n",
    "print(hex(dec_num), \"in hexadecimal.\")"
   ]
  },
  {
   "cell_type": "markdown",
   "id": "5321e2d9",
   "metadata": {},
   "source": [
    "### 25. Write a Python Program To Find ASCII value of a character."
   ]
  },
  {
   "cell_type": "code",
   "execution_count": 13,
   "id": "d96e254a",
   "metadata": {},
   "outputs": [
    {
     "name": "stdout",
     "output_type": "stream",
     "text": [
      "Enter the character: T\n",
      "The ASCII value of 'T' is 84\n"
     ]
    }
   ],
   "source": [
    "char = str(input(\"Enter the character: \"))\n",
    "print(\"The ASCII value of '\" + char + \"' is\", ord(char))"
   ]
  },
  {
   "cell_type": "code",
   "execution_count": null,
   "id": "b5c9f38b",
   "metadata": {},
   "outputs": [],
   "source": []
  }
 ],
 "metadata": {
  "kernelspec": {
   "display_name": "Python 3 (ipykernel)",
   "language": "python",
   "name": "python3"
  },
  "language_info": {
   "codemirror_mode": {
    "name": "ipython",
    "version": 3
   },
   "file_extension": ".py",
   "mimetype": "text/x-python",
   "name": "python",
   "nbconvert_exporter": "python",
   "pygments_lexer": "ipython3",
   "version": "3.11.5"
  }
 },
 "nbformat": 4,
 "nbformat_minor": 5
}
